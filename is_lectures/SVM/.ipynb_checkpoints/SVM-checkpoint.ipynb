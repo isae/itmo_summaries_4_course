{
 "cells": [
  {
   "cell_type": "markdown",
   "metadata": {},
   "source": [
    "Получение данных "
   ]
  },
  {
   "cell_type": "code",
   "execution_count": 1,
   "metadata": {
    "collapsed": false
   },
   "outputs": [
    {
     "ename": "ImportError",
     "evalue": "dlopen(//anaconda/envs/python2/lib/python2.7/site-packages/cvxopt/lapack.so, 2): Symbol not found: _dgesv_\n  Referenced from: //anaconda/envs/python2/lib/python2.7/site-packages/cvxopt/lapack.so\n  Expected in: /System/Library/Frameworks/Accelerate.framework/Versions/A/Frameworks/vecLib.framework/Versions/A/libBLAS.dylib\n",
     "output_type": "error",
     "traceback": [
      "\u001b[0;31m---------------------------------------------------------------------------\u001b[0m",
      "\u001b[0;31mImportError\u001b[0m                               Traceback (most recent call last)",
      "\u001b[0;32m<ipython-input-1-74e1fb65bde6>\u001b[0m in \u001b[0;36m<module>\u001b[0;34m()\u001b[0m\n\u001b[1;32m      3\u001b[0m \u001b[0;32mimport\u001b[0m \u001b[0mpylab\u001b[0m \u001b[0;32mas\u001b[0m \u001b[0mpl\u001b[0m\u001b[0;34m\u001b[0m\u001b[0m\n\u001b[1;32m      4\u001b[0m \u001b[0;32mfrom\u001b[0m \u001b[0mnumpy\u001b[0m \u001b[0;32mimport\u001b[0m \u001b[0mlinalg\u001b[0m\u001b[0;34m\u001b[0m\u001b[0m\n\u001b[0;32m----> 5\u001b[0;31m \u001b[0;32mimport\u001b[0m \u001b[0mcvxopt\u001b[0m\u001b[0;34m\u001b[0m\u001b[0m\n\u001b[0m\u001b[1;32m      6\u001b[0m \u001b[0;32mimport\u001b[0m \u001b[0mcvxopt\u001b[0m\u001b[0;34m.\u001b[0m\u001b[0msolvers\u001b[0m\u001b[0;34m\u001b[0m\u001b[0m\n\u001b[1;32m      7\u001b[0m \u001b[0;32mimport\u001b[0m \u001b[0mmatplotlib\u001b[0m\u001b[0;34m.\u001b[0m\u001b[0mpyplot\u001b[0m \u001b[0;32mas\u001b[0m \u001b[0mplt\u001b[0m\u001b[0;34m\u001b[0m\u001b[0m\n",
      "\u001b[0;32m//anaconda/envs/python2/lib/python2.7/site-packages/cvxopt/__init__.pyc\u001b[0m in \u001b[0;36m<module>\u001b[0;34m()\u001b[0m\n\u001b[1;32m    253\u001b[0m     \u001b[0mexp\u001b[0m\u001b[0;34m,\u001b[0m \u001b[0mlog\u001b[0m\u001b[0;34m\u001b[0m\u001b[0m\n\u001b[1;32m    254\u001b[0m \u001b[0;34m\u001b[0m\u001b[0m\n\u001b[0;32m--> 255\u001b[0;31m \u001b[0;32mfrom\u001b[0m \u001b[0mcvxopt\u001b[0m \u001b[0;32mimport\u001b[0m \u001b[0msolvers\u001b[0m\u001b[0;34m,\u001b[0m \u001b[0mblas\u001b[0m\u001b[0;34m,\u001b[0m \u001b[0mlapack\u001b[0m\u001b[0;34m\u001b[0m\u001b[0m\n\u001b[0m\u001b[1;32m    256\u001b[0m \u001b[0;34m\u001b[0m\u001b[0m\n\u001b[1;32m    257\u001b[0m __all__ = [ 'blas', 'lapack', 'amd', 'umfpack', 'cholmod', 'solvers',\n",
      "\u001b[0;31mImportError\u001b[0m: dlopen(//anaconda/envs/python2/lib/python2.7/site-packages/cvxopt/lapack.so, 2): Symbol not found: _dgesv_\n  Referenced from: //anaconda/envs/python2/lib/python2.7/site-packages/cvxopt/lapack.so\n  Expected in: /System/Library/Frameworks/Accelerate.framework/Versions/A/Frameworks/vecLib.framework/Versions/A/libBLAS.dylib\n"
     ]
    }
   ],
   "source": [
    "%matplotlib inline\n",
    "import numpy as np\n",
    "import pylab as pl\n",
    "from numpy import linalg\n",
    "import cvxopt\n",
    "import cvxopt.solvers\n",
    "import matplotlib.pyplot as plt\n",
    "\n",
    "chips = open('./chips.txt', 'r')\n",
    "chips.readline()\n",
    "dataPlain = []\n",
    "for line in chips:\n",
    "    row = line.replace(',','.').split()\n",
    "    clazz = int(row[2])\n",
    "    dataPlain.append([[float(row[0]),float(row[1])], -1 if clazz==0 else 1])\n",
    "def coord(c,clazz):\n",
    "    return map(lambda p: p[0][c], filter(lambda p: p[1]==clazz, dataPlain))\n",
    "red = [coord(0, 1), coord(1, 1)]\n",
    "blue = [coord(0, -1), coord(1, -1)]\n",
    "\n",
    "fig = plt.figure(num=None, figsize=(8, 6), dpi=80, facecolor='w', edgecolor='k')\n",
    "ax = fig.add_axes([-1, 1, -1, 1])\n",
    "ax.scatter(red[0], red[1], c='r', s=25)\n",
    "ax.scatter(blue[0], blue[1], c='b', s=25)\n",
    "plt.show()"
   ]
  },
  {
   "cell_type": "markdown",
   "metadata": {},
   "source": [
    "Выборка не является линейно разделимой"
   ]
  },
  {
   "cell_type": "markdown",
   "metadata": {},
   "source": [
    "Ядра:"
   ]
  },
  {
   "cell_type": "code",
   "execution_count": 536,
   "metadata": {
    "collapsed": false
   },
   "outputs": [],
   "source": [
    "def lin(x1, x2):\n",
    "    return np.dot(x1, x2)\n",
    "\n",
    "def poly(x, y, p):\n",
    "    return (1 + np.dot(x, y)) ** p\n",
    "\n",
    "def gauss(x, y, sigma=5.0):\n",
    "    return np.exp(-linalg.norm(x-y)**2 / (2 * (sigma ** 2)))"
   ]
  },
  {
   "cell_type": "markdown",
   "metadata": {},
   "source": [
    "Алгоритм"
   ]
  },
  {
   "cell_type": "code",
   "execution_count": 537,
   "metadata": {
    "collapsed": false
   },
   "outputs": [],
   "source": [
    "class SVM(object):\n",
    "\n",
    "    def __init__(self, kernel, C):\n",
    "        self.kernel = kernel\n",
    "        self.C = float(C)\n",
    "\n",
    "    def fit(self, X, y):\n",
    "        n_samples, n_features = X.shape\n",
    "\n",
    "        # Gram matrix\n",
    "        K = np.zeros((n_samples, n_samples))\n",
    "        for i in range(n_samples):\n",
    "            for j in range(n_samples):\n",
    "                K[i,j] = self.kernel(X[i], X[j])\n",
    "\n",
    "        P = cvxopt.matrix(np.outer(y,y) * K)\n",
    "        q = cvxopt.matrix(np.ones(n_samples) * -1)\n",
    "        A = cvxopt.matrix(y, (1,n_samples))\n",
    "        b = cvxopt.matrix(0.0)\n",
    "\n",
    "        tmp1 = np.diag(np.ones(n_samples) * -1)\n",
    "        tmp2 = np.identity(n_samples)\n",
    "        G = cvxopt.matrix(np.vstack((tmp1, tmp2)))\n",
    "        tmp1 = np.zeros(n_samples)\n",
    "        tmp2 = np.ones(n_samples) * self.C\n",
    "        h = cvxopt.matrix(np.hstack((tmp1, tmp2)))\n",
    "\n",
    "        # solve QP problem\n",
    "        solution = cvxopt.solvers.qp(P, q, G, h, A, b)\n",
    "\n",
    "        # Lambdas\n",
    "        a = np.ravel(solution['x'])\n",
    "\n",
    "        # Support vectors have non zero lambdas (lagrange multipliers)\n",
    "        sv = a > 1e-5\n",
    "        ind = np.arange(len(a))[sv]\n",
    "        self.a = a[sv]\n",
    "        self.sv = X[sv]\n",
    "        self.sv_y = y[sv]\n",
    "        print \"%d support vectors out of %d points\" % (len(self.a), n_samples)\n",
    "\n",
    "        # Intercept\n",
    "        self.b = 0\n",
    "        for n in range(len(self.a)):\n",
    "            self.b += self.sv_y[n]\n",
    "            self.b -= np.sum(self.a * self.sv_y * K[ind[n],sv])\n",
    "        self.b /= len(self.a) # normalize weights\n",
    "\n",
    "    def project(self, X):\n",
    "        y_predict = np.zeros(len(X))\n",
    "        for i in range(len(X)):\n",
    "            s = 0\n",
    "            for a, sv_y, sv in zip(self.a, self.sv_y, self.sv):\n",
    "                s += a * sv_y * self.kernel(X[i], sv)\n",
    "            y_predict[i] = s\n",
    "        return y_predict + self.b\n",
    "\n",
    "    def predict(self, X):\n",
    "        return np.sign(self.project(X))\n",
    "\n",
    "def split(x1, x2):\n",
    "    size1 = int(len(x1[0])*test_percent)    \n",
    "    size2 = int(len(x2[0])*test_percent)  \n",
    "    train_x = np.vstack ((x1[0][size1:], x2[0][size2:]))\n",
    "    train_y = np.hstack((x1[1][size1:], x2[1][size2:]))\n",
    "    test_x = np.vstack ((x1[0][:size1], x2[0][:size2]))\n",
    "    test_y = np.hstack((x1[1][:size1], x2[1][:size2]))\n",
    "    return (train_x, train_y), (test_x, test_y)\n",
    "\n",
    "def plot(X1_train, X2_train, svm):\n",
    "    fig = plt.figure(num=None, figsize=(8, 6), dpi=80, facecolor='w', edgecolor='k')\n",
    "    ax = fig.add_axes([-1, 1, -1, 1])\n",
    "    \n",
    "    ax.scatter(svm.sv[:,0], svm.sv[:,1], s=100, c=\"black\")\n",
    "    ax.scatter(X1_train[:,0], X1_train[:,1], s=50, c='red')\n",
    "    ax.scatter(X2_train[:,0], X2_train[:,1], s=50, c='blue')\n",
    "\n",
    "    X1, X2 = np.meshgrid(np.linspace(-1,1,50), np.linspace(-1,1,50))\n",
    "    X = np.array([[x1, x2] for x1, x2 in zip(np.ravel(X1), np.ravel(X2))])\n",
    "    Z = svm.project(X).reshape(X1.shape)\n",
    "    ax.contour(X1, X2, Z, [0.0], colors='green', linewidths=2, origin='lower')\n",
    "    ax.contour(X1, X2, Z + 1, [0.0], colors='grey', linewidths=2, origin='lower')\n",
    "    ax.contour(X1, X2, Z - 1, [0.0], colors='grey', linewidths=2, origin='lower')\n",
    "\n",
    "    plt.axis(\"tight\")\n",
    "    plt.show()"
   ]
  },
  {
   "cell_type": "markdown",
   "metadata": {},
   "source": [
    "Настройка параметров алгоритма:"
   ]
  },
  {
   "cell_type": "code",
   "execution_count": 538,
   "metadata": {
    "collapsed": false
   },
   "outputs": [],
   "source": [
    "def poly3(x,y):\n",
    "    return poly(x,y,3)\n",
    "\n",
    "kernel = poly3 # ядро\n",
    "C = 0.01 # параметр SVM\n",
    "test_percent = 0.1 # процентов датасета уйдет в тестовую выборку"
   ]
  },
  {
   "cell_type": "code",
   "execution_count": 539,
   "metadata": {
    "collapsed": false
   },
   "outputs": [
    {
     "name": "stdout",
     "output_type": "stream",
     "text": [
      "     pcost       dcost       gap    pres   dres\n",
      " 0: -2.8811e+01 -4.4366e+00  7e+02  3e+01  5e-15\n",
      " 1: -4.5748e+00 -3.3254e+00  4e+01  2e+00  4e-15\n",
      " 2: -8.2024e-01 -2.4309e+00  2e+00  6e-16  1e-15\n",
      " 3: -9.3661e-01 -1.1892e+00  3e-01  6e-17  6e-16\n",
      " 4: -1.0305e+00 -1.0529e+00  2e-02  7e-17  7e-16\n",
      " 5: -1.0316e+00 -1.0397e+00  8e-03  3e-16  7e-16\n",
      " 6: -1.0324e+00 -1.0404e+00  8e-03  4e-16  6e-16\n",
      " 7: -1.0343e+00 -1.0356e+00  1e-03  5e-16  6e-16\n",
      " 8: -1.0349e+00 -1.0349e+00  2e-05  3e-16  7e-16\n",
      " 9: -1.0349e+00 -1.0349e+00  2e-07  3e-17  7e-16\n",
      "Optimal solution found.\n",
      "106 support vectors out of 107 points\n",
      "10 out of 11 predictions correct\n"
     ]
    },
    {
     "data": {
      "image/png": "[encoded data removed]",
      "text/plain": [
       "<matplotlib.figure.Figure at 0x10a25f810>"
      ]
     },
     "metadata": {},
     "output_type": "display_data"
    }
   ],
   "source": [
    "def test():\n",
    "    X1 = map(lambda x: x[0], filter(lambda x: x[1] ==1, dataPlain))\n",
    "    y1 = [1.0]*len(X1)\n",
    "    X2 = map(lambda x: x[0], filter(lambda x: x[1] ==-1, dataPlain))\n",
    "    y2 = [-1.0]*len(X2)\n",
    "    train, test = split([X1, y1], [X2, y2])\n",
    "    svm = SVM(kernel,C)\n",
    "    svm.fit(train[0], train[1])\n",
    "\n",
    "    y_predict = svm.predict(test[0])\n",
    "    correct = np.sum(y_predict == test[1])\n",
    "    print \"%d out of %d predictions correct\" % (correct, len(y_predict))\n",
    "\n",
    "    plot(train[0][train[1]==1], train[0][train[1]==-1], svm)\n",
    "    \n",
    "test()"
   ]
  },
  {
   "cell_type": "code",
   "execution_count": null,
   "metadata": {
    "collapsed": true
   },
   "outputs": [],
   "source": []
  }
 ],
 "metadata": {
  "kernelspec": {
   "display_name": "Python 2",
   "language": "python",
   "name": "python2"
  },
  "language_info": {
   "codemirror_mode": {
    "name": "ipython",
    "version": 2
   },
   "file_extension": ".py",
   "mimetype": "text/x-python",
   "name": "python",
   "nbconvert_exporter": "python",
   "pygments_lexer": "ipython2",
   "version": "2.7.10"
  }
 },
 "nbformat": 4,
 "nbformat_minor": 0
}
